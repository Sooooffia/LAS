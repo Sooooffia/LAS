{
 "cells": [
  {
   "cell_type": "markdown",
   "metadata": {},
   "source": [
    "### This is a simple/fast tutorial for creating experiments"
   ]
  },
  {
   "cell_type": "code",
   "execution_count": 1,
   "metadata": {},
   "outputs": [],
   "source": [
    "from scheduling_functions import *\n",
    "from scheduling_algorithms import *\n",
    "import numpy as np\n",
    "import sys\n",
    "import copy\n",
    "from random import sample, randint, seed\n",
    "from math import isclose, ceil, floor\n",
    "from statistics import mean\n",
    "from decimal import *\n",
    "from fractions import *\n",
    "import matplotlib.pyplot as plt\n",
    "from operator import add"
   ]
  },
  {
   "cell_type": "markdown",
   "metadata": {},
   "source": [
    "## General instructions/restrictions\n",
    "1. Usually job instances are denoted by J_something. They are python dictionaries in which every element is a tuple (job_weight, release_time, deadline). By convention we will refer to the job that arrives at time t as the job with id (key in the dictionary representation) t+1.\n",
    "\n",
    "2. __Job weights should be integers >=0__.\n",
    "\n",
    "3. The robustness parameter epsilon should be rational, e.g. epsilon = Fraction(1,10). Most internal operations in the scheduling libraries use the __fraction module__ to avoid errors due to arithmetic precision.\n",
    "\n",
    "4. To create a job instance easily, use the job_instance_creation function, the inputs should be a weights list, and D. The i-th element of the weights list (ws[i-1]) represents the job which is released at time i-1.\n",
    "\n",
    "5. To create a bounded random walk as described in the paper, use random_walk_creation\n",
    "\n",
    "6. The functions __AVR_energy_ratio__, __OA_energy_ratio__, __BKP_energy_ratio__ and __LAS_energy_ratio__ take as input a job instance as described before and give as output the competitive ratios of the respective algorithms."
   ]
  },
  {
   "cell_type": "code",
   "execution_count": 2,
   "metadata": {},
   "outputs": [],
   "source": [
    "#creates a bounded random walk:\n",
    "\n",
    "def random_walk_creation(num_jobs, step_size, random_seed, m, M):\n",
    "    seed(random_seed)\n",
    "\n",
    "    ws = [0]*num_jobs\n",
    "    ws[0] = randint(m,M)\n",
    "    steps = [randint(-step_size,step_size) for i in range(1,num_jobs)]\n",
    "    for i in range(1, num_jobs):\n",
    "        ws[i] = ws[i-1] + steps[i-1]\n",
    "        ws[i] = min(ws[i], M)\n",
    "        ws[i] = max(ws[i], m)\n",
    "    return ws\n"
   ]
  },
  {
   "cell_type": "code",
   "execution_count": 3,
   "metadata": {},
   "outputs": [],
   "source": [
    "#creates a job instance given a list of weights and T\n",
    "\n",
    "def job_instance_creation(ws, T):\n",
    "    # dictionary: key --> job id\n",
    "    #            value --> (weight, release time , deadline)\n",
    "    J = {}\n",
    "    job_id = 1\n",
    "    i = 0\n",
    "    for job_weight in ws:\n",
    "        J[job_id] = (job_weight , i, i+T)\n",
    "        i+=1\n",
    "        job_id+=1\n",
    "    return J"
   ]
  },
  {
   "cell_type": "code",
   "execution_count": 4,
   "metadata": {},
   "outputs": [],
   "source": [
    "\n",
    "#returns the energy ratio AVR_energy/Optimal_energy\n",
    "\n",
    "def AVR_energy_ratio(_J, alpha):\n",
    "    \n",
    "    J = copy.deepcopy(_J)\n",
    "    #speed list of average rate\n",
    "    AVR_speed_list = Avg_rate(J)\n",
    "    #energy consumption of AVR\n",
    "    energy_AVR = compute_energy(AVR_speed_list, alpha)\n",
    "    \n",
    "    J = copy.deepcopy(_J)\n",
    "    #speed list of the optimal schedule\n",
    "    optimal_alg_speed_list, _ = Optimal_Alg(J)\n",
    "    #energy consumption of the optimal schedule\n",
    "    energy_optimal = compute_energy(optimal_alg_speed_list, alpha)  \n",
    "    \n",
    "    return float(energy_AVR)/energy_optimal    \n"
   ]
  },
  {
   "cell_type": "code",
   "execution_count": 5,
   "metadata": {},
   "outputs": [],
   "source": [
    "#returns the energy ratio OA_energy/Optimal_energy\n",
    "\n",
    "def OA_energy_ratio(_J, alpha):\n",
    "    \n",
    "    J = copy.deepcopy(_J)\n",
    "    #speed list of Optimal Available\n",
    "    OA_speed_list = OptimalOnline(J)\n",
    "    #energy consumption of Optimal Available\n",
    "    energy_OA = sum([s**alpha for s in OA_speed_list])\n",
    "    \n",
    "    J = copy.deepcopy(_J)\n",
    "    #speed list of the optimal schedule\n",
    "    optimal_alg_speed_list, _ = Optimal_Alg(J)\n",
    "    #energy consumption of the optimal schedule\n",
    "    energy_optimal = compute_energy(optimal_alg_speed_list, alpha)    \n",
    "   \n",
    "    return float(energy_OA)/energy_optimal\n"
   ]
  },
  {
   "cell_type": "code",
   "execution_count": 6,
   "metadata": {},
   "outputs": [],
   "source": [
    "#returns the energy ratio BKP_energy/Optimal_energy\n",
    "\n",
    "def BKP_energy_ratio(_J, granularity, alpha):\n",
    "    \n",
    "    J = copy.deepcopy(_J)\n",
    "    #energy consumption of the BKP algorithm\n",
    "    energy_BKP = BKP_alg(J, granularity, alpha)\n",
    "\n",
    "    J = copy.deepcopy(_J)\n",
    "    #speed list of the optimal schedule\n",
    "    optimal_alg_speed_list, _ = Optimal_Alg(J)\n",
    "    #energy consumption of the optimal schedule\n",
    "    energy_optimal = compute_energy(optimal_alg_speed_list, alpha)  \n",
    "    \n",
    "    return float(energy_BKP)/energy_optimal "
   ]
  },
  {
   "cell_type": "code",
   "execution_count": 7,
   "metadata": {},
   "outputs": [],
   "source": [
    "#returns the energy ratio LAS_energy/Optimal_energy\n",
    "\n",
    "def LAS_energy_ratio(_J_true, _J_pred, epsilon, alpha, dt):\n",
    "    \n",
    "    #compute energy of LAS algorithm\n",
    "    J_true = copy.deepcopy(_J_true)\n",
    "    J_pred = copy.deepcopy(_J_pred)\n",
    "    \n",
    "    speed_sol = LAS(J_pred, J_true, epsilon, dt, alpha)\n",
    "    \n",
    "    \n",
    "    energy_LAS = sum([s**alpha for s in speed_sol])*dt\n",
    "    \n",
    "   \n",
    "    #compute speedlist and energu consumption of the optimal schedule of the true instance\n",
    "    J_true = copy.deepcopy(_J_true)\n",
    "    J_pred = copy.deepcopy(_J_pred)\n",
    "    optimal_alg_speed_list, _ = Optimal_Alg(J_true)\n",
    "    energy_optimal = compute_energy(optimal_alg_speed_list, alpha)\n",
    "    \n",
    "    return float(energy_LAS)/energy_optimal   "
   ]
  },
  {
   "cell_type": "markdown",
   "metadata": {},
   "source": [
    "### First experiment"
   ]
  },
  {
   "cell_type": "markdown",
   "metadata": {},
   "source": [
    "#### parameters setting"
   ]
  },
  {
   "cell_type": "code",
   "execution_count": 8,
   "metadata": {},
   "outputs": [],
   "source": [
    "num_jobs = 80\n",
    "D = 10\n",
    "alpha = 3\n",
    "epsilon = Fraction(1,20)\n",
    "dt = 0.01\n",
    "bkp_granularity = 0.25"
   ]
  },
  {
   "cell_type": "markdown",
   "metadata": {},
   "source": [
    "#### we create a random ground truth instance"
   ]
  },
  {
   "cell_type": "code",
   "execution_count": 9,
   "metadata": {},
   "outputs": [],
   "source": [
    "w_min = 10\n",
    "w_max = 100\n",
    "w_true = [randint(w_min,w_max) for _ in range(0,num_jobs)]\n",
    "J_true = job_instance_creation(w_true, D)"
   ]
  },
  {
   "cell_type": "markdown",
   "metadata": {},
   "source": [
    "#### we create a very accurate predictor by adding pointwise a small integer error between [-3,3]"
   ]
  },
  {
   "cell_type": "code",
   "execution_count": 10,
   "metadata": {},
   "outputs": [],
   "source": [
    "s = 3\n",
    "error = [randint(-s,s) for _ in range(0,num_jobs)]\n",
    "w_pred = list(map(add,w_true, error))\n",
    "J_pred = job_instance_creation(w_pred, D)"
   ]
  },
  {
   "cell_type": "markdown",
   "metadata": {},
   "source": [
    "#### now we will calculate the competitive ratio of the online algorithms AVR, OA and BKP"
   ]
  },
  {
   "cell_type": "code",
   "execution_count": 11,
   "metadata": {},
   "outputs": [
    {
     "name": "stdout",
     "output_type": "stream",
     "text": [
      "AVR competitive ratio:  1.2019768033822158\n"
     ]
    }
   ],
   "source": [
    "AVR = AVR_energy_ratio(J_true, alpha)\n",
    "print(\"AVR competitive ratio: \", AVR)"
   ]
  },
  {
   "cell_type": "code",
   "execution_count": 12,
   "metadata": {},
   "outputs": [
    {
     "name": "stdout",
     "output_type": "stream",
     "text": [
      "OA competitive ratio:  1.1582087796227416\n"
     ]
    }
   ],
   "source": [
    "OA = OA_energy_ratio(J_true, alpha)\n",
    "print(\"OA competitive ratio: \", OA)"
   ]
  },
  {
   "cell_type": "code",
   "execution_count": 13,
   "metadata": {},
   "outputs": [
    {
     "name": "stdout",
     "output_type": "stream",
     "text": [
      "BKP competitive ratio:  7.031244509886541\n"
     ]
    }
   ],
   "source": [
    "BKP = BKP_energy_ratio(J_true, bkp_granularity, alpha)\n",
    "print(\"BKP competitive ratio: \", BKP)"
   ]
  },
  {
   "cell_type": "markdown",
   "metadata": {},
   "source": [
    "#### now we will calculate the competitive ratio of LAS algorithm with $\\epsilon = 1/20$"
   ]
  },
  {
   "cell_type": "code",
   "execution_count": 14,
   "metadata": {},
   "outputs": [
    {
     "name": "stdout",
     "output_type": "stream",
     "text": [
      "LAS competitive ratio:  1.0041740634803273\n"
     ]
    }
   ],
   "source": [
    "LAS_ratio = LAS_energy_ratio(J_true, J_pred, epsilon, alpha, dt)\n",
    "print(\"LAS competitive ratio: \", LAS_ratio)"
   ]
  },
  {
   "cell_type": "markdown",
   "metadata": {},
   "source": [
    "#### we will repeat the experiment by using a perfect predictor and LAS algorithm with $\\epsilon = 1/20$"
   ]
  },
  {
   "cell_type": "code",
   "execution_count": 15,
   "metadata": {},
   "outputs": [
    {
     "name": "stdout",
     "output_type": "stream",
     "text": [
      "LAS competitive ratio:  1.0014730114373158\n"
     ]
    }
   ],
   "source": [
    "LAS_ratio = LAS_energy_ratio(J_true, J_true, epsilon, alpha, dt)\n",
    "print(\"LAS competitive ratio: \", LAS_ratio)"
   ]
  },
  {
   "cell_type": "markdown",
   "metadata": {},
   "source": [
    "### Second experiment"
   ]
  },
  {
   "cell_type": "markdown",
   "metadata": {},
   "source": [
    "#### we will create an instance which mimics a bounded random walk and an accurate predictor"
   ]
  },
  {
   "cell_type": "code",
   "execution_count": 16,
   "metadata": {},
   "outputs": [],
   "source": [
    "M = 100\n",
    "m = 10\n",
    "random_seed = 10\n",
    "step_size = 10\n",
    "s = 10\n",
    "w_true = random_walk_creation(num_jobs, step_size, random_seed, m, M)\n",
    "J_true = job_instance_creation(w_true, D)\n",
    "error = [randint(-s,s) for _ in range(0,num_jobs)]\n",
    "w_pred = list(map(add,w_true, error))\n",
    "J_pred = job_instance_creation(w_pred, D)"
   ]
  },
  {
   "cell_type": "markdown",
   "metadata": {},
   "source": [
    "#### we will plot the weights of the true and the predicted instance"
   ]
  },
  {
   "cell_type": "code",
   "execution_count": 17,
   "metadata": {},
   "outputs": [
    {
     "data": {
      "image/png": "[encoded data removed]",
      "text/plain": [
       "<Figure size 432x288 with 1 Axes>"
      ]
     },
     "metadata": {
      "needs_background": "light"
     },
     "output_type": "display_data"
    }
   ],
   "source": [
    "x = range(0, num_jobs)\n",
    "plt.plot(x, w_true, label = \"True instance\")\n",
    "plt.plot(x, w_pred, label = \"Predicted instance\")\n",
    "plt.legend(loc=\"upper left\")\n",
    "plt.show()"
   ]
  },
  {
   "cell_type": "markdown",
   "metadata": {},
   "source": [
    "#### performance of LAS with $\\epsilon = 1/20$"
   ]
  },
  {
   "cell_type": "code",
   "execution_count": 18,
   "metadata": {},
   "outputs": [
    {
     "name": "stdout",
     "output_type": "stream",
     "text": [
      "LAS competitive ratio:  1.0062949674139055\n"
     ]
    }
   ],
   "source": [
    "LAS_ratio = LAS_energy_ratio(J_true, J_pred, epsilon, alpha, dt)\n",
    "print(\"LAS competitive ratio: \", LAS_ratio)"
   ]
  }
 ],
 "metadata": {
  "kernelspec": {
   "display_name": "Python 3",
   "language": "python",
   "name": "python3"
  },
  "language_info": {
   "codemirror_mode": {
    "name": "ipython",
    "version": 3
   },
   "file_extension": ".py",
   "mimetype": "text/x-python",
   "name": "python",
   "nbconvert_exporter": "python",
   "pygments_lexer": "ipython3",
   "version": "3.7.3"
  }
 },
 "nbformat": 4,
 "nbformat_minor": 2
}
