{
 "cells": [
  {
   "cell_type": "code",
   "execution_count": 1,
   "metadata": {},
   "outputs": [],
   "source": [
    "from scheduling_functions import *\n",
    "from scheduling_algorithms import *\n",
    "import numpy as np\n",
    "import sys\n",
    "import copy\n",
    "from random import sample, randint, seed\n",
    "from math import isclose, ceil, floor\n",
    "from statistics import mean\n",
    "from decimal import *\n",
    "from fractions import *\n",
    "import matplotlib.pyplot as plt\n",
    "import dill\n",
    "dataset = \"loc-brightkite_totalCheckins.txt\"\n"
   ]
  },
  {
   "cell_type": "markdown",
   "metadata": {},
   "source": [
    "### We first define functions which give us the competitive ratios of the respective algoirthms"
   ]
  },
  {
   "cell_type": "code",
   "execution_count": 2,
   "metadata": {},
   "outputs": [],
   "source": [
    "def LAS_energy_ratio(_J_true, _J_pred, epsilon, alpha, dt):\n",
    "    \n",
    "    #compute energy of LAS algorithm\n",
    "    J_true = copy.deepcopy(_J_true)\n",
    "    J_pred = copy.deepcopy(_J_pred)\n",
    "    \n",
    "    speed_sol = LAS(J_pred, J_true, epsilon, dt, alpha)\n",
    "    energy_LAS = sum([s**alpha for s in speed_sol])*dt\n",
    "    \n",
    "   \n",
    "    #compute speedlist and energu consumption of the optimal schedule of the true instance\n",
    "    J_true = copy.deepcopy(_J_true)\n",
    "    J_pred = copy.deepcopy(_J_pred)\n",
    "    optimal_alg_speed_list, _ = Optimal_Alg(J_true)\n",
    "    energy_optimal = compute_energy(optimal_alg_speed_list, alpha)\n",
    "    \n",
    "    return float(energy_LAS)/energy_optimal    "
   ]
  },
  {
   "cell_type": "code",
   "execution_count": 3,
   "metadata": {},
   "outputs": [],
   "source": [
    "#returns the energy ratio AVR_energy/Optimal_energy\n",
    "\n",
    "def AVR_energy_ratio(_J, alpha):\n",
    "    \n",
    "    J = copy.deepcopy(_J)\n",
    "    #speed list of average rate\n",
    "    AVR_speed_list = Avg_rate(J)\n",
    "    #energy consumption of AVR\n",
    "    energy_AVR = compute_energy(AVR_speed_list, alpha)\n",
    "    \n",
    "    J = copy.deepcopy(_J)\n",
    "    #speed list of the optimal schedule\n",
    "    optimal_alg_speed_list, _ = Optimal_Alg(J)\n",
    "    #energy consumption of the optimal schedule\n",
    "    energy_optimal = compute_energy(optimal_alg_speed_list, alpha)  \n",
    "    \n",
    "    return float(energy_AVR)/energy_optimal    "
   ]
  },
  {
   "cell_type": "code",
   "execution_count": 4,
   "metadata": {},
   "outputs": [],
   "source": [
    "#returns the energy ratio OA_energy/Optimal_energy\n",
    "\n",
    "def OA_energy_ratio(_J, alpha):\n",
    "    \n",
    "    J = copy.deepcopy(_J)\n",
    "    #speed list of Optimal Available\n",
    "    OA_speed_list = OptimalOnline(J)\n",
    "    #energy consumption of Optimal Available\n",
    "    energy_OA = sum([s**alpha for s in OA_speed_list])\n",
    "    \n",
    "    J = copy.deepcopy(_J)\n",
    "    #speed list of the optimal schedule\n",
    "    optimal_alg_speed_list, _ = Optimal_Alg(J)\n",
    "    #energy consumption of the optimal schedule\n",
    "    energy_optimal = compute_energy(optimal_alg_speed_list, alpha)    \n",
    "   \n",
    "    return float(energy_OA)/energy_optimal"
   ]
  },
  {
   "cell_type": "code",
   "execution_count": 5,
   "metadata": {},
   "outputs": [],
   "source": [
    "#returns the energy ratio BKP_energy/Optimal_energy\n",
    "\n",
    "def BKP_energy_ratio(_J, granularity, alpha):\n",
    "    \n",
    "    J = copy.deepcopy(_J)\n",
    "    #energy consumption of the BKP algorithm\n",
    "    energy_BKP = BKP_alg(J, granularity, alpha)\n",
    "\n",
    "    J = copy.deepcopy(_J)\n",
    "    #speed list of the optimal schedule\n",
    "    optimal_alg_speed_list, _ = Optimal_Alg(J)\n",
    "    #energy consumption of the optimal schedule\n",
    "    energy_optimal = compute_energy(optimal_alg_speed_list, alpha)  \n",
    "    \n",
    "    return float(energy_BKP)/energy_optimal    "
   ]
  },
  {
   "cell_type": "markdown",
   "metadata": {},
   "source": [
    "### Data preprocessing functions"
   ]
  },
  {
   "cell_type": "code",
   "execution_count": 15,
   "metadata": {},
   "outputs": [],
   "source": [
    "def date_to_int(date):\n",
    "    date = int(\"\".join(date.split('-')))\n",
    "    return date\n",
    "\n",
    "def time_to_int(time):\n",
    "    time = time[:-1].split(':')\n",
    "    time = time[0:2]\n",
    "    time[1] = time[1][0]\n",
    "    time = int(\"\".join(time))\n",
    "    return time\n",
    "\n",
    "def minimum_granularity(lst):\n",
    "    #we assume that the input list is sorted\n",
    "    res = max(lst)\n",
    "    for i in range(1,len(lst)):\n",
    "        res = min(res, lst[i]-lst[i-1])\n",
    "    return res\n",
    "\n",
    "def plot_histogram(l):\n",
    "    x_y = [(x, l.count(x)) for x in set(l)]\n",
    "    x_y = sorted(x_y, key=lambda t: t[0])\n",
    "    xs = []\n",
    "    ys = []\n",
    "    for x, y in x_y:\n",
    "        ys.append(y)\n",
    "    \n",
    "    xs = range(0, len)\n",
    "    plt.plot(xs, ys)\n",
    "    plt.draw()\n",
    "    return 0\n",
    "\n",
    "def create_input(lst, D):\n",
    "    time_weight = [(time, lst.count(time)) for time in set(lst)]\n",
    "    time_weight = sorted(time_weight, key=lambda t: t[0])\n",
    "    i = 0\n",
    "    res = {}\n",
    "    for time, weight in time_weight:\n",
    "        res[i+1] = (weight, i , i+D)\n",
    "        i+=1\n",
    "    return res\n",
    "    \n",
    "def ranges(nums):\n",
    "    nums = sorted(set(nums))\n",
    "    gaps = [[s, e] for s, e in zip(nums, nums[1:]) if s+1 < e]\n",
    "    edges = iter(nums[:1] + sum(gaps, []) + nums[-1:])\n",
    "    return list(zip(edges, edges))"
   ]
  },
  {
   "cell_type": "markdown",
   "metadata": {},
   "source": [
    "#### Reading the input file"
   ]
  },
  {
   "cell_type": "code",
   "execution_count": 7,
   "metadata": {},
   "outputs": [
    {
     "name": "stdout",
     "output_type": "stream",
     "text": [
      "I just started reading the file\n",
      "I just finished reading the file...everything seems ok\n"
     ]
    }
   ],
   "source": [
    "with open(dataset) as fin:\n",
    "    i = 0\n",
    "    dates = []\n",
    "    times = []\n",
    "    date_and_time = []\n",
    "    print(\"I just started reading the file\")\n",
    "    for line in fin:\n",
    "        if i == -1:\n",
    "            break\n",
    "        try:\n",
    "            date, time = line.split()[1].split(\"T\")\n",
    "        except:\n",
    "            print(\"the problem occurs in line = \", i)\n",
    "            print(line)\n",
    "        if len(date) != 10:\n",
    "            print(\"a date is wrong\")\n",
    "            print(date)\n",
    "        time = time_to_int(time)\n",
    "        date = date_to_int(date)\n",
    "        times.append(time)\n",
    "        dates.append(date)\n",
    "        date_and_time.append((date, time))\n",
    "        i+=1\n",
    "    print(\"I just finished reading the file...everything seems ok\")"
   ]
  },
  {
   "cell_type": "markdown",
   "metadata": {},
   "source": [
    "#### Discretization of the timeline + we maintain only days with enough data\n",
    "##### The discretization is in ten minute chunks and we maintain days were all ten minute chunks receive at least one request"
   ]
  },
  {
   "cell_type": "code",
   "execution_count": 8,
   "metadata": {},
   "outputs": [],
   "source": [
    "dates = list(set(dates))\n",
    "dates = sorted(dates)\n",
    "dates_dict = {}\n",
    "for date in dates:\n",
    "    dates_dict[date] = []\n",
    "for date, time in date_and_time:\n",
    "    dates_dict[date].append(time)"
   ]
  },
  {
   "cell_type": "code",
   "execution_count": 9,
   "metadata": {},
   "outputs": [],
   "source": [
    "lens_in_a_day = []\n",
    "for date in sorted(dates_dict.keys()):\n",
    "    dates_dict[date] = sorted(dates_dict[date])\n",
    "    len_of_the_day = len(set(dates_dict[date]))\n",
    "    if len_of_the_day < 144:\n",
    "        del dates_dict[date]\n",
    "        continue\n",
    "    lens_in_a_day.append(len_of_the_day)"
   ]
  },
  {
   "cell_type": "code",
   "execution_count": 10,
   "metadata": {},
   "outputs": [],
   "source": [
    "#dates_lst maps integer i--->date\n",
    "dates_lst = []\n",
    "for date in sorted(dates_dict.keys()):\n",
    "    dates_lst.append(date)"
   ]
  },
  {
   "cell_type": "code",
   "execution_count": 11,
   "metadata": {},
   "outputs": [],
   "source": [
    "num_of_days = len(dates_lst)"
   ]
  },
  {
   "cell_type": "markdown",
   "metadata": {},
   "source": [
    "#### Example on how the loads in three different dates look like"
   ]
  },
  {
   "cell_type": "code",
   "execution_count": 16,
   "metadata": {},
   "outputs": [
    {
     "name": "stdout",
     "output_type": "stream",
     "text": [
      "144\n",
      "7681\n",
      "8639\n",
      "[0, 1, 2, 3, 4, 5, 10, 11, 12, 13, 14, 15, 20, 21, 22, 23, 24, 25, 30, 31, 32, 33, 34, 35, 40, 41, 42, 43, 44, 45, 50, 51, 52, 53, 54, 55, 60, 61, 62, 63, 64, 65, 70, 71, 72, 73, 74, 75, 80, 81, 82, 83, 84, 85, 90, 91, 92, 93, 94, 95, 100, 101, 102, 103, 104, 105, 110, 111, 112, 113, 114, 115, 120, 121, 122, 123, 124, 125, 130, 131, 132, 133, 134, 135, 140, 141, 142, 143, 144, 145, 150, 151, 152, 153, 154, 155, 160, 161, 162, 163, 164, 165, 170, 171, 172, 173, 174, 175, 180, 181, 182, 183, 184, 185, 190, 191, 192, 193, 194, 195, 200, 201, 202, 203, 204, 205, 210, 211, 212, 213, 214, 215, 220, 221, 222, 223, 224, 225, 230, 231, 232, 233, 234, 235]\n",
      "144\n",
      "[0, 1, 2, 3, 4, 5, 10, 11, 12, 13, 14, 15, 20, 21, 22, 23, 24, 25, 30, 31, 32, 33, 34, 35, 40, 41, 42, 43, 44, 45, 50, 51, 52, 53, 54, 55, 60, 61, 62, 63, 64, 65, 70, 71, 72, 73, 74, 75, 80, 81, 82, 83, 84, 85, 90, 91, 92, 93, 94, 95, 100, 101, 102, 103, 104, 105, 110, 111, 112, 113, 114, 115, 120, 121, 122, 123, 124, 125, 130, 131, 132, 133, 134, 135, 140, 141, 142, 143, 144, 145, 150, 151, 152, 153, 154, 155, 160, 161, 162, 163, 164, 165, 170, 171, 172, 173, 174, 175, 180, 181, 182, 183, 184, 185, 190, 191, 192, 193, 194, 195, 200, 201, 202, 203, 204, 205, 210, 211, 212, 213, 214, 215, 220, 221, 222, 223, 224, 225, 230, 231, 232, 233, 234, 235]\n",
      "144\n",
      "[0, 1, 2, 3, 4, 5, 10, 11, 12, 13, 14, 15, 20, 21, 22, 23, 24, 25, 30, 31, 32, 33, 34, 35, 40, 41, 42, 43, 44, 45, 50, 51, 52, 53, 54, 55, 60, 61, 62, 63, 64, 65, 70, 71, 72, 73, 74, 75, 80, 81, 82, 83, 84, 85, 90, 91, 92, 93, 94, 95, 100, 101, 102, 103, 104, 105, 110, 111, 112, 113, 114, 115, 120, 121, 122, 123, 124, 125, 130, 131, 132, 133, 134, 135, 140, 141, 142, 143, 144, 145, 150, 151, 152, 153, 154, 155, 160, 161, 162, 163, 164, 165, 170, 171, 172, 173, 174, 175, 180, 181, 182, 183, 184, 185, 190, 191, 192, 193, 194, 195, 200, 201, 202, 203, 204, 205, 210, 211, 212, 213, 214, 215, 220, 221, 222, 223, 224, 225, 230, 231, 232, 233, 234, 235]\n",
      "144\n"
     ]
    },
    {
     "data": {
      "image/png": "[encoded data removed]",
      "text/plain": [
       "<Figure size 432x288 with 1 Axes>"
      ]
     },
     "metadata": {
      "needs_background": "light"
     },
     "output_type": "display_data"
    }
   ],
   "source": [
    "date = 20090601\n",
    "print(len(set(dates_dict[date +100])))\n",
    "print(len(dates_dict[date +101]))\n",
    "print(len(dates_dict[date +102]))\n",
    "\n",
    "\n",
    "plot_histogram(dates_dict[date+100])\n",
    "plot_histogram(dates_dict[date+101])\n",
    "plot_histogram(dates_dict[date+102])\n",
    "plt.show()"
   ]
  },
  {
   "cell_type": "markdown",
   "metadata": {},
   "source": [
    "### Experiments ( it may more than an hour)"
   ]
  },
  {
   "cell_type": "code",
   "execution_count": null,
   "metadata": {},
   "outputs": [],
   "source": [
    "D = 20\n",
    "dt = 0.01\n",
    "alpha = 3\n",
    "epsilons = [Fraction(1,100), Fraction(80,100)]\n",
    "num_of_days = 10"
   ]
  },
  {
   "cell_type": "code",
   "execution_count": null,
   "metadata": {},
   "outputs": [],
   "source": [
    "y_LAS = {}\n",
    "y_AVR = []\n",
    "y_OA  = []\n",
    "for epsilon in epsilons:\n",
    "    y_LAS[epsilon]=[]\n",
    "\n",
    "for i in range(0,num_of_days-1):\n",
    "    print(\"day=\", i+1)\n",
    "    previous_day = dates_lst[i]\n",
    "    today = dates_lst[i+1]\n",
    "    J_pred = create_input(dates_dict[previous_day], D)\n",
    "    J_true = create_input(dates_dict[today], D)\n",
    "    \n",
    "    AVR = AVR_energy_ratio(J_true, alpha)\n",
    "    OA = OA_energy_ratio(J_true, alpha)\n",
    "    print(\"AVG= \",AVR)\n",
    "    y_AVR.append(AVR)\n",
    "    print(\"OA= \",OA)\n",
    "    y_OA.append(OA)\n",
    "    \n",
    "\n",
    "    for epsilon in epsilons:\n",
    "        LAS_scheduling = LAS_energy_ratio(J_true, J_pred, epsilon, alpha, dt)\n",
    "        print(\"LAS, $\\epsilon$=\", epsilon, \"-->\", LAS_scheduling)\n",
    "        y_LAS[epsilon].append(LAS_scheduling)\n",
    "    print(\"========\")"
   ]
  },
  {
   "cell_type": "markdown",
   "metadata": {},
   "source": [
    "### We compute the $\\alpha$-norm distances between consecutive days"
   ]
  },
  {
   "cell_type": "code",
   "execution_count": null,
   "metadata": {},
   "outputs": [],
   "source": [
    "def distance(J_true, J_pred, alpha):\n",
    "    res = 0\n",
    "    for idx in J_true.keys():\n",
    "        w_true, _, _ = J_true[idx]\n",
    "        w_pred, _, _ = J_pred[idx]\n",
    "        res += abs(w_true-w_pred)**alpha\n",
    "    return res"
   ]
  },
  {
   "cell_type": "code",
   "execution_count": null,
   "metadata": {},
   "outputs": [],
   "source": [
    "distances = []\n",
    "normalization_factor = []\n",
    "for i in range(0,num_of_days-1):\n",
    "    D = 20\n",
    "    alpha =3\n",
    "\n",
    "    J_pred = create_input(dates_dict[dates_lst[i]], D)\n",
    "    J_true = create_input(dates_dict[dates_lst[i+1]], D)\n",
    "    distances.append(distance(J_true, J_pred, alpha))"
   ]
  },
  {
   "cell_type": "markdown",
   "metadata": {},
   "source": [
    "#### Storing of the results for further use in the future"
   ]
  },
  {
   "cell_type": "code",
   "execution_count": null,
   "metadata": {},
   "outputs": [],
   "source": [
    "dill.dump_session(\"Real_Dataset_Results\")"
   ]
  },
  {
   "cell_type": "markdown",
   "metadata": {},
   "source": [
    "### Plots"
   ]
  },
  {
   "cell_type": "code",
   "execution_count": null,
   "metadata": {},
   "outputs": [],
   "source": [
    "x = range(1, num_of_days)\n",
    "plt.rcParams[\"figure.figsize\"] = (70,39)\n",
    "\n",
    "\n",
    "fig = plt.figure()\n",
    "\n",
    "plt1 = fig.add_subplot(3, 1, 1)\n",
    "plt2 = fig.add_subplot(3, 1, 2, sharey=plt1)\n",
    "plt3 = fig.add_subplot(3, 1, 3)\n",
    "\n",
    "\n",
    "plt.subplots_adjust(wspace=0, hspace=0)\n",
    "\n",
    "# blue 004488\n",
    "# yellow DDAA33\n",
    "# red BB5566\n",
    "\n",
    "\n",
    "epsilon = Fraction(1,100)\n",
    "plt1.plot(x, y_AVR ,color = \"#BB5566\",linewidth=6.0)\n",
    "plt1.plot(x, y_OA,color = \"#DDAA33\", linewidth=6.0)\n",
    "plt1.plot(x, y_LAS[epsilon],color = \"#004488\", linewidth=6.0)\n",
    "plt1.set_ylabel(\"Competitive\\nRatio\", fontsize = 50)\n",
    "plt1.legend(['AVR', 'OA', 'LAS, $\\epsilon = 0.01$'], bbox_to_anchor=[0.66, 1.0],loc='upper center', prop={'size': 50})\n",
    "plt1.set_yticks([1.0,1.2,1.4,1.6,1.8,2.0,2.2,2.4])\n",
    "plt1.set_yticklabels([\"    1.0\",\"  1.2\",\"  1.4\",\"  1.6\",\"  1.8\",\"  2.0\",\"  2.2\",\"   \"])\n",
    "plt1.set_ylim([0.9, 2.4])\n",
    "plt1.tick_params(labelsize=44)\n",
    "\n",
    "\n",
    "epsilon = Fraction(80,100)\n",
    "plt2.plot(x, y_AVR ,color = \"#BB5566\",linewidth=6.0)\n",
    "plt2.plot(x, y_OA,color = \"#DDAA33\", linewidth=6.0)\n",
    "plt2.plot(x, y_LAS[epsilon],color = \"#004488\", linewidth=6.0)\n",
    "plt2.set_ylabel(\"Competitive\\nRatio\", fontsize = 50)\n",
    "plt2.legend(['AVR', 'OA','LAS, $\\epsilon = 0.8$'], bbox_to_anchor=[0.66, 1.0],loc='upper center', prop={'size': 50})\n",
    "plt2.tick_params(labelsize=44)\n",
    "\n",
    "\n",
    "\n",
    "\n",
    "y_distances = [distances[i]/10000000.0 for i in range(0, len(distances))]\n",
    "plt3.plot(x,np.array(y_distances), color = \"#004488\",linewidth=6.0)\n",
    "plt3.ticklabel_format(style = 'plain')\n",
    "plt3.set_xlabel(\"Day\", fontsize = 50)\n",
    "plt3.set_ylabel(\"Prediction Error\", fontsize = 50)\n",
    "plt3.set_yticks([0,1,2,3,4])\n",
    "plt3.set_yticklabels([\"            0\", r\"$1 \\times 10^7$\", r\"$ 2 \\times 10^7$\", r\"$ 3 \\times 10^7$\", r\"$ 4 \\times 10^7$\"])\n",
    "plt3.tick_params(labelsize=44)\n",
    "\n",
    "\n",
    "\n",
    "# plt.savefig(\"real_dataset_plot.svg\",bbox_inches='tight',  format='svg', dpi=8000)\n",
    "plt.savefig(\"final_real_plot.svg\",bbox_inches='tight',  format='svg', dpi=8000)\n"
   ]
  },
  {
   "cell_type": "markdown",
   "metadata": {},
   "source": [
    "### We present the mean of LAS the first 100 days"
   ]
  },
  {
   "cell_type": "code",
   "execution_count": null,
   "metadata": {},
   "outputs": [],
   "source": [
    "epsilon = Fraction(1,100)\n",
    "the_mean1 = mean(y_LAS[epsilon][0:100])\n",
    "    \n",
    "epsilon = Fraction(80,100)\n",
    "the_mean2 = mean(y_LAS[epsilon][0:100])\n",
    "print(the_mean1, \"<\", the_mean2, \"  as expected (because the predictor is quite accurate the first 100 days)\")"
   ]
  },
  {
   "cell_type": "markdown",
   "metadata": {},
   "source": [
    "## Statistcs from the first to the last day"
   ]
  },
  {
   "cell_type": "code",
   "execution_count": null,
   "metadata": {},
   "outputs": [],
   "source": [
    "print(\"AVR has a mean competitive ratio of :\", mean(y_AVR))\n",
    "print(\"the worst competitive ratio of AVR is :\", max(y_AVR))\n",
    "print(\"=======\")\n",
    "print(\"Optimal Available has a mean competitive ratio of :\", mean(y_OA))\n",
    "print(\"the worst competitive ratio of Optimal Available is :\", max(y_OA))\n",
    "\n",
    "print(\"=======\")\n",
    "print(\"Statistics for the LAS algorithm\")\n",
    "epsilon = Fraction(1,100)\n",
    "print(\"EPSILON = 1/100\")\n",
    "the_max = max(y_LAS[epsilon])\n",
    "the_mean = mean(y_LAS[epsilon])\n",
    "print(\"the mean competitive ratio is :\", the_mean)\n",
    "print(\"the worst competitive ration is :\", the_max)\n",
    "print(\"========\")\n",
    "epsilon = Fraction(80,100)\n",
    "print(\"EPSILON = 8/10\")\n",
    "the_max = max(y_LAS[epsilon])\n",
    "the_mean = mean(y_LAS[epsilon])\n",
    "print(\"the mean competitive ratio is :\", the_mean)\n",
    "print(\"the worst competitive ration is :\", the_max)"
   ]
  },
  {
   "cell_type": "markdown",
   "metadata": {},
   "source": [
    "### By testing some random days we can see that the performance of BKP is substantially worse, therefore it is not included in the previous plots"
   ]
  },
  {
   "cell_type": "code",
   "execution_count": null,
   "metadata": {},
   "outputs": [],
   "source": [
    "granularity = 0.25\n",
    "y_BKP = []\n",
    "for i in range(0,num_of_days-1, 20):\n",
    "    print(\"day=\", i+1)\n",
    "    previous_day = dates_lst[i]\n",
    "    today = dates_lst[i+1]\n",
    "    J_pred = create_input(dates_dict[previous_day], D)\n",
    "    J_true = create_input(dates_dict[today], D)\n",
    "    \n",
    "    BKP = BKP_energy_ratio(J_true, granularity, alpha)  \n",
    "    y_BKP.append(BKP)\n",
    "    print(\"BKP= \",BKP)\n",
    "\n"
   ]
  },
  {
   "cell_type": "code",
   "execution_count": null,
   "metadata": {},
   "outputs": [],
   "source": []
  }
 ],
 "metadata": {
  "kernelspec": {
   "display_name": "Python 3",
   "language": "python",
   "name": "python3"
  },
  "language_info": {
   "codemirror_mode": {
    "name": "ipython",
    "version": 3
   },
   "file_extension": ".py",
   "mimetype": "text/x-python",
   "name": "python",
   "nbconvert_exporter": "python",
   "pygments_lexer": "ipython3",
   "version": "3.7.3"
  }
 },
 "nbformat": 4,
 "nbformat_minor": 2
}
